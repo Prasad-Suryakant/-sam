{
 "cells": [
  {
   "cell_type": "code",
   "execution_count": null,
   "id": "7da0a6d4",
   "metadata": {},
   "outputs": [],
   "source": [
    "a=1\n",
    "b=1\n",
    "c=1 \n",
    "a+b+c"
   ]
  },
  {
   "cell_type": "code",
   "execution_count": null,
   "id": "247e7a63",
   "metadata": {},
   "outputs": [],
   "source": [
    "1a=1"
   ]
  },
  {
   "cell_type": "code",
   "execution_count": null,
   "id": "1d668a76",
   "metadata": {},
   "outputs": [],
   "source": [
    "a 1=1"
   ]
  },
  {
   "cell_type": "code",
   "execution_count": null,
   "id": "a6a6ec8a",
   "metadata": {},
   "outputs": [],
   "source": [
    "a_1=1"
   ]
  },
  {
   "cell_type": "code",
   "execution_count": null,
   "id": "6a00304c",
   "metadata": {},
   "outputs": [],
   "source": [
    "_a1=1"
   ]
  },
  {
   "cell_type": "code",
   "execution_count": null,
   "id": "2ff2f3c8",
   "metadata": {},
   "outputs": [],
   "source": [
    "__a=1\n"
   ]
  },
  {
   "cell_type": "code",
   "execution_count": null,
   "id": "8cde483f",
   "metadata": {},
   "outputs": [],
   "source": [
    "a@gmail.com=1"
   ]
  },
  {
   "cell_type": "code",
   "execution_count": null,
   "id": "01acb3dc",
   "metadata": {},
   "outputs": [],
   "source": [
    "if=2\n"
   ]
  },
  {
   "cell_type": "code",
   "execution_count": null,
   "id": "8d9ee882",
   "metadata": {},
   "outputs": [],
   "source": [
    "type=1"
   ]
  },
  {
   "cell_type": "code",
   "execution_count": null,
   "id": "4d0bc1e3",
   "metadata": {},
   "outputs": [],
   "source": [
    "a=1\n",
    "type(a)"
   ]
  },
  {
   "cell_type": "code",
   "execution_count": null,
   "id": "940d39d9",
   "metadata": {},
   "outputs": [],
   "source": [
    "count=100\n",
    "kilometers=1000.0\n",
    "name=\"rahul\"\n",
    "print(count,kilometers,name)"
   ]
  },
  {
   "cell_type": "code",
   "execution_count": null,
   "id": "a6346c25",
   "metadata": {},
   "outputs": [],
   "source": [
    "a,b,c=1,2,\"john\"\n",
    "print(a,b,c,sep=',')"
   ]
  },
  {
   "cell_type": "code",
   "execution_count": null,
   "id": "4fc1ad18",
   "metadata": {},
   "outputs": [],
   "source": [
    "a=2\n",
    "print(id(a))"
   ]
  },
  {
   "cell_type": "code",
   "execution_count": null,
   "id": "8c836eb3",
   "metadata": {},
   "outputs": [],
   "source": [
    "a=1\n",
    "print(id(a))"
   ]
  },
  {
   "cell_type": "code",
   "execution_count": null,
   "id": "dd32de1e",
   "metadata": {},
   "outputs": [],
   "source": [
    "str1 =\"python is a programming language\"\n",
    "print(str1)"
   ]
  },
  {
   "cell_type": "code",
   "execution_count": null,
   "id": "cc02cd4b",
   "metadata": {},
   "outputs": [],
   "source": [
    "print(str1[3])"
   ]
  },
  {
   "cell_type": "code",
   "execution_count": null,
   "id": "9b451957",
   "metadata": {},
   "outputs": [],
   "source": [
    "print(str1[4:10])"
   ]
  },
  {
   "cell_type": "code",
   "execution_count": null,
   "id": "8ba43f36",
   "metadata": {},
   "outputs": [],
   "source": [
    "print(str1[12:23])"
   ]
  },
  {
   "cell_type": "code",
   "execution_count": null,
   "id": "e5e58133",
   "metadata": {},
   "outputs": [],
   "source": [
    "str1.split()\n"
   ]
  },
  {
   "cell_type": "code",
   "execution_count": null,
   "id": "033bd878",
   "metadata": {},
   "outputs": [],
   "source": [
    "str1=\"{}{}{}\".format(\"today I \",\"am \",\"good\")\n",
    "str1"
   ]
  },
  {
   "cell_type": "code",
   "execution_count": null,
   "id": "9886f4b0",
   "metadata": {},
   "outputs": [],
   "source": [
    "str1=\"{0}{1}{2}\".format(\"today I \",\"am \",\"good\")\n",
    "str"
   ]
  },
  {
   "cell_type": "code",
   "execution_count": null,
   "id": "c2a9e5fa",
   "metadata": {},
   "outputs": [],
   "source": [
    "str1=\"{1}{0}{2}\".format(\"today I \",\"am \",\"good\")\n",
    "str1"
   ]
  },
  {
   "cell_type": "code",
   "execution_count": null,
   "id": "96ca06fb",
   "metadata": {},
   "outputs": [],
   "source": [
    "str1=\"{a}{v}{e}\".format(a=\"this is sam \" , v=\"this is nother sam \" , e=\"this is sweet and lovely \")\n",
    "str1\n",
    "print(str1)"
   ]
  },
  {
   "cell_type": "markdown",
   "id": "580961a2",
   "metadata": {},
   "source": []
  },
  {
   "cell_type": "code",
   "execution_count": null,
   "id": "5e22a9de",
   "metadata": {},
   "outputs": [],
   "source": [
    "str1.capitalize()"
   ]
  },
  {
   "cell_type": "markdown",
   "id": "91815efb",
   "metadata": {},
   "source": [
    "# list"
   ]
  },
  {
   "cell_type": "code",
   "execution_count": null,
   "id": "333d1de6",
   "metadata": {},
   "outputs": [],
   "source": [
    "L=[1,2,3,\"sam\",4,5]\n",
    "L"
   ]
  },
  {
   "cell_type": "code",
   "execution_count": null,
   "id": "832b22c0",
   "metadata": {},
   "outputs": [],
   "source": [
    "L[0:4]"
   ]
  },
  {
   "cell_type": "code",
   "execution_count": null,
   "id": "6200adef",
   "metadata": {},
   "outputs": [],
   "source": [
    "L[3]"
   ]
  },
  {
   "cell_type": "code",
   "execution_count": null,
   "id": "ace6e1ed",
   "metadata": {},
   "outputs": [],
   "source": [
    "L[3][2]"
   ]
  },
  {
   "cell_type": "code",
   "execution_count": null,
   "id": "a5a0c006",
   "metadata": {},
   "outputs": [],
   "source": [
    "ks=[1,2,3]\n",
    "ks+ks"
   ]
  },
  {
   "cell_type": "code",
   "execution_count": null,
   "id": "8039f9ea",
   "metadata": {},
   "outputs": [],
   "source": [
    "ls=[3,6,8,9]\n",
    "ks + ls\n"
   ]
  },
  {
   "cell_type": "code",
   "execution_count": null,
   "id": "9d3fe478",
   "metadata": {},
   "outputs": [],
   "source": [
    "ks*5"
   ]
  },
  {
   "cell_type": "markdown",
   "id": "0586dce1",
   "metadata": {},
   "source": []
  },
  {
   "cell_type": "code",
   "execution_count": null,
   "id": "c5a9e34a",
   "metadata": {},
   "outputs": [],
   "source": [
    "L"
   ]
  },
  {
   "cell_type": "markdown",
   "id": "a54de591",
   "metadata": {},
   "source": [
    "# concept of mutability"
   ]
  },
  {
   "cell_type": "code",
   "execution_count": null,
   "id": "749e547e",
   "metadata": {},
   "outputs": [],
   "source": [
    "print(id(L))"
   ]
  },
  {
   "cell_type": "code",
   "execution_count": null,
   "id": "95aa349b",
   "metadata": {},
   "outputs": [],
   "source": [
    "L[0] = 10\n",
    "print(id(L))"
   ]
  },
  {
   "cell_type": "code",
   "execution_count": null,
   "id": "42335a79",
   "metadata": {},
   "outputs": [],
   "source": [
    "L2 = \"diwakar\"\n",
    "print(id(L2))"
   ]
  },
  {
   "cell_type": "code",
   "execution_count": null,
   "id": "2e934a3a",
   "metadata": {},
   "outputs": [],
   "source": [
    "L2[0] = \"g\""
   ]
  },
  {
   "cell_type": "code",
   "execution_count": null,
   "id": "b2bea3e3",
   "metadata": {},
   "outputs": [],
   "source": [
    "L2 = \"g\"+L2[1:]\n",
    "L2"
   ]
  },
  {
   "cell_type": "code",
   "execution_count": null,
   "id": "85601bee",
   "metadata": {},
   "outputs": [],
   "source": [
    "print(id(L2))"
   ]
  },
  {
   "cell_type": "code",
   "execution_count": 2,
   "id": "31708678",
   "metadata": {},
   "outputs": [
    {
     "name": "stdout",
     "output_type": "stream",
     "text": [
      "enter your name sam\n"
     ]
    }
   ],
   "source": [
    "a=input(\"enter your name \")"
   ]
  },
  {
   "cell_type": "code",
   "execution_count": 3,
   "id": "6dfc9c20",
   "metadata": {},
   "outputs": [
    {
     "name": "stdout",
     "output_type": "stream",
     "text": [
      "enter your age  21\n"
     ]
    }
   ],
   "source": [
    "a=input(\"enter your age  \")"
   ]
  },
  {
   "cell_type": "code",
   "execution_count": 5,
   "id": "ac2aba22",
   "metadata": {},
   "outputs": [
    {
     "name": "stdout",
     "output_type": "stream",
     "text": [
      "enter your age 23\n",
      "46\n"
     ]
    }
   ],
   "source": [
    "a=int(input(\"enter your age \"))\n",
    "print(a*2)"
   ]
  },
  {
   "cell_type": "code",
   "execution_count": 7,
   "id": "e3b50517",
   "metadata": {},
   "outputs": [
    {
     "name": "stdout",
     "output_type": "stream",
     "text": [
      "enter your sequence 11 21 32 45 67 \n"
     ]
    }
   ],
   "source": [
    "a=input(\"enter your sequence \")"
   ]
  },
  {
   "cell_type": "code",
   "execution_count": 8,
   "id": "f1005c5d",
   "metadata": {},
   "outputs": [
    {
     "data": {
      "text/plain": [
       "'11 21 32 45 67 '"
      ]
     },
     "execution_count": 8,
     "metadata": {},
     "output_type": "execute_result"
    }
   ],
   "source": [
    "a\n"
   ]
  },
  {
   "cell_type": "code",
   "execution_count": 10,
   "id": "d7981807",
   "metadata": {},
   "outputs": [
    {
     "data": {
      "text/plain": [
       "str"
      ]
     },
     "execution_count": 10,
     "metadata": {},
     "output_type": "execute_result"
    }
   ],
   "source": [
    "type(a)"
   ]
  },
  {
   "cell_type": "code",
   "execution_count": 11,
   "id": "b7801609",
   "metadata": {},
   "outputs": [],
   "source": [
    "## deliminator or seperator------it is use to seperate the two element of the list..\n"
   ]
  },
  {
   "cell_type": "code",
   "execution_count": 12,
   "id": "9f87e721",
   "metadata": {},
   "outputs": [
    {
     "data": {
      "text/plain": [
       "['11', '21', '32', '45', '67']"
      ]
     },
     "execution_count": 12,
     "metadata": {},
     "output_type": "execute_result"
    }
   ],
   "source": [
    "a.split()"
   ]
  },
  {
   "cell_type": "markdown",
   "id": "96532696",
   "metadata": {},
   "source": [
    "# tuple\n"
   ]
  },
  {
   "cell_type": "code",
   "execution_count": 13,
   "id": "6a05d7b3",
   "metadata": {},
   "outputs": [],
   "source": [
    "## list are opened and closed by [] parenthesis.     && list are immutable...\n",
    "\n",
    "## but tuples are close opened and closed by () paranthesis..   && tuple is immutable"
   ]
  },
  {
   "cell_type": "code",
   "execution_count": 16,
   "id": "bbda2b53",
   "metadata": {},
   "outputs": [
    {
     "name": "stdout",
     "output_type": "stream",
     "text": [
      "(12, 45, 25, 'sam', 54)\n",
      "(1, 25, 42, 'surya')\n"
     ]
    }
   ],
   "source": [
    "tuple1 = (12,45,25,\"sam\",54)\n",
    "tuple2 = (1,25,42,\"surya\")\n",
    "print(tuple1)\n",
    "print(tuple2)"
   ]
  },
  {
   "cell_type": "code",
   "execution_count": 17,
   "id": "4175e1e3",
   "metadata": {},
   "outputs": [
    {
     "name": "stdout",
     "output_type": "stream",
     "text": [
      "12\n"
     ]
    }
   ],
   "source": [
    "print(tuple1[0])"
   ]
  },
  {
   "cell_type": "code",
   "execution_count": 18,
   "id": "68e1f48e",
   "metadata": {},
   "outputs": [
    {
     "ename": "TypeError",
     "evalue": "'tuple' object does not support item assignment",
     "output_type": "error",
     "traceback": [
      "\u001b[1;31m---------------------------------------------------------------------------\u001b[0m",
      "\u001b[1;31mTypeError\u001b[0m                                 Traceback (most recent call last)",
      "Input \u001b[1;32mIn [18]\u001b[0m, in \u001b[0;36m<cell line: 1>\u001b[1;34m()\u001b[0m\n\u001b[1;32m----> 1\u001b[0m tuple1[\u001b[38;5;241m0\u001b[39m] \u001b[38;5;241m=\u001b[39m \u001b[38;5;124m\"\u001b[39m\u001b[38;5;124mhii\u001b[39m\u001b[38;5;124m\"\u001b[39m\n",
      "\u001b[1;31mTypeError\u001b[0m: 'tuple' object does not support item assignment"
     ]
    }
   ],
   "source": [
    "tuple1[0] = \"hii\""
   ]
  },
  {
   "cell_type": "code",
   "execution_count": 19,
   "id": "c593a191",
   "metadata": {},
   "outputs": [
    {
     "data": {
      "text/plain": [
       "(1,\n",
       " 25,\n",
       " 42,\n",
       " 'surya',\n",
       " 1,\n",
       " 25,\n",
       " 42,\n",
       " 'surya',\n",
       " 1,\n",
       " 25,\n",
       " 42,\n",
       " 'surya',\n",
       " 1,\n",
       " 25,\n",
       " 42,\n",
       " 'surya')"
      ]
     },
     "execution_count": 19,
     "metadata": {},
     "output_type": "execute_result"
    }
   ],
   "source": [
    "tuple2*4"
   ]
  },
  {
   "cell_type": "code",
   "execution_count": 20,
   "id": "6690e4aa",
   "metadata": {},
   "outputs": [
    {
     "data": {
      "text/plain": [
       "(12, 45, 25, 'sam', 54, 12, 45, 25, 'sam', 54, 12, 45, 25, 'sam', 54)"
      ]
     },
     "execution_count": 20,
     "metadata": {},
     "output_type": "execute_result"
    }
   ],
   "source": [
    "tuple1*3"
   ]
  },
  {
   "cell_type": "markdown",
   "id": "f26806aa",
   "metadata": {},
   "source": [
    "# Python Dictionary\n"
   ]
  },
  {
   "cell_type": "code",
   "execution_count": 21,
   "id": "6af6e25b",
   "metadata": {},
   "outputs": [],
   "source": [
    "# there are two main elemnets in python dictionary are \"keys\"  & \"values\"....\n",
    "##python dictionary represents the curly braces {}..."
   ]
  },
  {
   "cell_type": "code",
   "execution_count": 23,
   "id": "87785b28",
   "metadata": {},
   "outputs": [],
   "source": [
    "dict1={}"
   ]
  },
  {
   "cell_type": "code",
   "execution_count": 24,
   "id": "29ca7db0",
   "metadata": {},
   "outputs": [
    {
     "data": {
      "text/plain": [
       "dict"
      ]
     },
     "execution_count": 24,
     "metadata": {},
     "output_type": "execute_result"
    }
   ],
   "source": [
    "type(dict1)"
   ]
  },
  {
   "cell_type": "code",
   "execution_count": 26,
   "id": "e524904d",
   "metadata": {},
   "outputs": [],
   "source": [
    "dict1['one'] = \"this is python\"\n",
    "dict1[2]= \"this is java\"\n"
   ]
  },
  {
   "cell_type": "code",
   "execution_count": 27,
   "id": "617984d3",
   "metadata": {},
   "outputs": [
    {
     "data": {
      "text/plain": [
       "'this is java'"
      ]
     },
     "execution_count": 27,
     "metadata": {},
     "output_type": "execute_result"
    }
   ],
   "source": [
    "dict1[2]"
   ]
  },
  {
   "cell_type": "code",
   "execution_count": 28,
   "id": "899fbe26",
   "metadata": {},
   "outputs": [
    {
     "ename": "KeyError",
     "evalue": "3",
     "output_type": "error",
     "traceback": [
      "\u001b[1;31m---------------------------------------------------------------------------\u001b[0m",
      "\u001b[1;31mKeyError\u001b[0m                                  Traceback (most recent call last)",
      "Input \u001b[1;32mIn [28]\u001b[0m, in \u001b[0;36m<cell line: 1>\u001b[1;34m()\u001b[0m\n\u001b[1;32m----> 1\u001b[0m \u001b[43mdict1\u001b[49m\u001b[43m[\u001b[49m\u001b[38;5;241;43m3\u001b[39;49m\u001b[43m]\u001b[49m\n",
      "\u001b[1;31mKeyError\u001b[0m: 3"
     ]
    }
   ],
   "source": [
    "dict1[3]"
   ]
  },
  {
   "cell_type": "code",
   "execution_count": 29,
   "id": "8126e7a5",
   "metadata": {},
   "outputs": [],
   "source": [
    "dict2={'name':'rohit','id':1234,'dept':'technical'}"
   ]
  },
  {
   "cell_type": "code",
   "execution_count": 31,
   "id": "b2f86e0e",
   "metadata": {},
   "outputs": [
    {
     "data": {
      "text/plain": [
       "'rohit'"
      ]
     },
     "execution_count": 31,
     "metadata": {},
     "output_type": "execute_result"
    }
   ],
   "source": [
    "dict2['name']"
   ]
  },
  {
   "cell_type": "code",
   "execution_count": 32,
   "id": "1c052f92",
   "metadata": {},
   "outputs": [
    {
     "ename": "SyntaxError",
     "evalue": "invalid syntax (277288853.py, line 1)",
     "output_type": "error",
     "traceback": [
      "\u001b[1;36m  Input \u001b[1;32mIn [32]\u001b[1;36m\u001b[0m\n\u001b[1;33m    dict2.keys{}\u001b[0m\n\u001b[1;37m              ^\u001b[0m\n\u001b[1;31mSyntaxError\u001b[0m\u001b[1;31m:\u001b[0m invalid syntax\n"
     ]
    }
   ],
   "source": [
    "dict2.keys()"
   ]
  },
  {
   "cell_type": "markdown",
   "id": "9433ec5e",
   "metadata": {},
   "source": [
    "# While Loops\n"
   ]
  },
  {
   "cell_type": "code",
   "execution_count": 33,
   "id": "820421f9",
   "metadata": {},
   "outputs": [
    {
     "name": "stdout",
     "output_type": "stream",
     "text": [
      "0\n",
      "1\n",
      "2\n",
      "3\n",
      "4\n",
      "5\n",
      "6\n",
      "7\n",
      "8\n",
      "9\n"
     ]
    }
   ],
   "source": [
    "count = 0\n",
    "while(count<10):\n",
    "    print(count)\n",
    "    count = count+1"
   ]
  },
  {
   "cell_type": "code",
   "execution_count": 36,
   "id": "93bb17b1",
   "metadata": {},
   "outputs": [
    {
     "name": "stdout",
     "output_type": "stream",
     "text": [
      "10\n",
      "9\n",
      "8\n",
      "7\n",
      "6\n",
      "5\n",
      "4\n",
      "3\n",
      "2\n",
      "1\n"
     ]
    }
   ],
   "source": [
    "count = 10\n",
    "while(count>0):\n",
    "    print(count)\n",
    "    count = count-1"
   ]
  },
  {
   "cell_type": "markdown",
   "id": "a956f04f",
   "metadata": {},
   "source": [
    "\n",
    "# While Loops with else\n",
    "\n"
   ]
  },
  {
   "cell_type": "code",
   "execution_count": 43,
   "id": "1a62eb3c",
   "metadata": {},
   "outputs": [
    {
     "name": "stdout",
     "output_type": "stream",
     "text": [
      "0 is less than 5\n",
      "1 is less than 5\n",
      "2 is less than 5\n",
      "3 is less than 5\n",
      "4 is less than 5\n",
      "5  is not less than 5\n"
     ]
    }
   ],
   "source": [
    "count = 0\n",
    "while(count<5):\n",
    "    print(count, \"is less than 5\")\n",
    "    count = count+1\n",
    "else:\n",
    "    print(count, \" is not less than 5\")"
   ]
  },
  {
   "cell_type": "code",
   "execution_count": 44,
   "id": "73ba2007",
   "metadata": {},
   "outputs": [
    {
     "name": "stdout",
     "output_type": "stream",
     "text": [
      "0 this is number less than 10\n",
      "1 this is number less than 10\n",
      "2 this is number less than 10\n",
      "3 this is number less than 10\n",
      "4 this is number less than 10\n",
      "5 this is number less than 10\n",
      "6 this is number less than 10\n",
      "7 this is number less than 10\n",
      "8 this is number less than 10\n",
      "9 this is number less than 10\n",
      "10 is not less than 10\n"
     ]
    }
   ],
   "source": [
    "count = 0\n",
    "while(count<10):\n",
    "    print(count, \"this is number less than 10\")\n",
    "    count = count+1\n",
    "else:\n",
    "    print(count,\"is not less than 10\")"
   ]
  },
  {
   "cell_type": "markdown",
   "id": "e3ece2e0",
   "metadata": {},
   "source": [
    "# For Loop\n"
   ]
  },
  {
   "cell_type": "code",
   "execution_count": 45,
   "id": "27ecbc94",
   "metadata": {},
   "outputs": [
    {
     "name": "stdout",
     "output_type": "stream",
     "text": [
      "1\n",
      "3\n",
      "4\n",
      "5\n",
      "6\n",
      "7\n",
      "8\n",
      "9\n"
     ]
    }
   ],
   "source": [
    "a = [1,3,4,5,6,7,8,9]\n",
    "for i in a:\n",
    "    print(i)"
   ]
  },
  {
   "cell_type": "code",
   "execution_count": 59,
   "id": "b5f60a29",
   "metadata": {},
   "outputs": [
    {
     "name": "stdout",
     "output_type": "stream",
     "text": [
      "Enter your name Sam \n"
     ]
    }
   ],
   "source": [
    "a=input(\"Enter your name \")"
   ]
  },
  {
   "cell_type": "code",
   "execution_count": 50,
   "id": "ed71a446",
   "metadata": {},
   "outputs": [
    {
     "data": {
      "text/plain": [
       "'S'"
      ]
     },
     "execution_count": 50,
     "metadata": {},
     "output_type": "execute_result"
    }
   ],
   "source": [
    "a[0]"
   ]
  },
  {
   "cell_type": "code",
   "execution_count": 60,
   "id": "2cec3989",
   "metadata": {},
   "outputs": [
    {
     "name": "stdout",
     "output_type": "stream",
     "text": [
      "S\n",
      "a\n",
      "m\n",
      " \n",
      "4\n"
     ]
    }
   ],
   "source": [
    "total = 0\n",
    "for i in a:\n",
    "    print(i)\n",
    "    total = total+1\n",
    "    \n",
    "print(total)\n"
   ]
  },
  {
   "cell_type": "code",
   "execution_count": 53,
   "id": "8e3f7bad",
   "metadata": {},
   "outputs": [
    {
     "name": "stdout",
     "output_type": "stream",
     "text": [
      "1\n"
     ]
    }
   ],
   "source": [
    "total = 0\n",
    "total = total+1\n",
    "print(total)"
   ]
  },
  {
   "cell_type": "markdown",
   "id": "3b8b5d09",
   "metadata": {},
   "source": [
    "# For loops with else"
   ]
  }
 ],
 "metadata": {
  "kernelspec": {
   "display_name": "Python 3 (ipykernel)",
   "language": "python",
   "name": "python3"
  },
  "language_info": {
   "codemirror_mode": {
    "name": "ipython",
    "version": 3
   },
   "file_extension": ".py",
   "mimetype": "text/x-python",
   "name": "python",
   "nbconvert_exporter": "python",
   "pygments_lexer": "ipython3",
   "version": "3.9.12"
  }
 },
 "nbformat": 4,
 "nbformat_minor": 5
}
